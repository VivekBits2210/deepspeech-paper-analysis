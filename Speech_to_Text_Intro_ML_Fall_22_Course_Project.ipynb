{
  "nbformat": 4,
  "nbformat_minor": 0,
  "metadata": {
    "colab": {
      "provenance": []
    },
    "kernelspec": {
      "name": "python3",
      "display_name": "Python 3"
    },
    "language_info": {
      "name": "python"
    }
  },
  "cells": [
    {
      "cell_type": "markdown",
      "source": [
        "# Speech To Text (5b)\n",
        "\n",
        "Vivek Nayak (vgn2004), \n",
        "Arjun Sharma (as13521)"
      ],
      "metadata": {
        "id": "ymLuex86v22i"
      }
    },
    {
      "cell_type": "markdown",
      "source": [
        "#Background"
      ],
      "metadata": {
        "id": "WbLN_GTewojk"
      }
    },
    {
      "cell_type": "markdown",
      "source": [
        "*Note: The references link to documents relevant to the sentence being read, information from these references were not copied from or paraphrased.*\n",
        "\\\n",
        "\\\n",
        "&nbsp;&nbsp;&nbsp;&nbsp;&nbsp;&nbsp;&nbsp;&nbsp;&nbsp;&nbsp;&nbsp;&nbsp;The project topic is speech recognition, aka converting speech to text [\\[11\\]](#scrollTo=oIZM2e1Swt9Q). The technical problem statement can be described as: given many audio clips in waveform format (i.e. audio without any compression), can you generate sentences in the English language (characters include lower case alphabets, spaces and apostrophes) that have the least distance from the transcriptions of the audio clips. The paper at hand [\\[13\\]](#scrollTo=oIZM2e1Swt9Q) takes the approach of training a deep learning system directly on the audio, without hand-crafting any features [\\[12\\]](#scrollTo=oIZM2e1Swt9Q). Specifically, the audio is transformed into a representation which contains intensity values per frequency and time bins, known as a ‘spectrogram’ [\\[9\\]](#scrollTo=oIZM2e1Swt9Q) and processed by the neural network, which then spits out probability distributions over a character distribution.\n",
        "\\\n",
        "\\\n",
        "&nbsp;&nbsp;&nbsp;&nbsp;&nbsp;&nbsp;&nbsp;&nbsp;&nbsp;&nbsp;&nbsp;&nbsp;This paper is of significance because laborious work such as extracting specialized features and applying acoustic models on the data is rendered redundant, simplifying the process of training and deploying this speech recognition model. As the deep learning model is able to transcribe speech well even when the environment is noisy, it is much more amenable to being deployed in real-world situations than the previous models.\n",
        "\\\n",
        "\\\n",
        "&nbsp;&nbsp;&nbsp;&nbsp;&nbsp;&nbsp;&nbsp;&nbsp;&nbsp;&nbsp;&nbsp;&nbsp;The paper leverages a neural network architecture where for some units in the hidden layer, the output on the previous example in a sequence is piped as an input to the input when running the forward pass for the next example in the sequence. This is called a recurrent neural network [\\[3\\]](#scrollTo=oIZM2e1Swt9Q) and is seen to be effective in sequence prediction problems. The sequence, in this case, is the audio file converted into a spectrogram. At each time step ‘t’, we have the intensity value for different frequency bins. The output from each time step ‘t’ is fed in a recurrent manner to the time step ‘t+1’. The final output of the neural network is a sequence of character probabilities per time step, over the space of small alphabets, a space (gap between words), blank (interval does not correspond to any sound) and an apostrophe (29 output nodes in total).\n",
        "\\\n",
        "\\\n",
        "&nbsp;&nbsp;&nbsp;&nbsp;&nbsp;&nbsp;&nbsp;&nbsp;&nbsp;&nbsp;&nbsp;&nbsp;The network contains five layers of hidden units. The first three layers are not recurrent. The fourth layer is a bi-directional recurrent layer, containing two sets of recurrent units with forward and backward recurrences. Basically, information in the bi-directional neural network is supplied by both the next and the previous part of the sequence. The fifth non-recurrent hidden layer takes both forward and backward recurrent unit outputs as its input. For each time slice t, the output layer outputs character probabilities using a softmax function to calculate the probabilities from node outputs. The loss function used is called CTC, or Connectionist Temporal Classification [\\[8\\]](#scrollTo=oIZM2e1Swt9Q), which penalizes alignment mistakes due to addition, subtraction or translation of characters. To prevent overfitting, a fraction of the input units (chosen randomly) are set to zero during training. This forces the model to learn a more robust representation of the data, because it must learn to compensate for the missing input units. This technique is called dropout [\\[5\\]](#scrollTo=oIZM2e1Swt9Q) and reduces the complexity of the model. For this paper, a dropout rate of 5-10 percent is used.\n",
        "\\\n",
        "\\\n",
        "&nbsp;&nbsp;&nbsp;&nbsp;&nbsp;&nbsp;&nbsp;&nbsp;&nbsp;&nbsp;&nbsp;&nbsp;For training, 5000 hours of speech read out by 9600 speakers was collected by Baidu [\\[4\\]](#scrollTo=oIZM2e1Swt9Q), the entity which funded this research. Since labeling speech from noisy environments was not practical, noisy environment recordings were generated by overlaying noise on top of speech. In order to ensure that these noisy clips would be similar to recorded noisy clips, any candidate noisy clips with average power per frequency band differing significantly from “natural” noise was rejected. To account for the Lombard effect [\\[7\\]](#scrollTo=oIZM2e1Swt9Q), aka the change in inflection observed when people speak in noisy environments to compensate for the noise, speech samples were recorded by people who were listening to loud background noise. During testing, the complete test set present within Switchboard Hub 5’00 [\\[6\\]](#scrollTo=oIZM2e1Swt9Q), a widely used speech to text benchmark, is used for checking the model’s performance. The performance metric we care about is called \"Word Error Rate\" [\\[1\\]](#scrollTo=oIZM2e1Swt9Q), which is measured as the fraction of words which would need to be substituted/deleted/inserted in the model's output in order for it to match the correct transcription.\n",
        "\\\n",
        "\\\n",
        "&nbsp;&nbsp;&nbsp;&nbsp;&nbsp;&nbsp;&nbsp;&nbsp;&nbsp;&nbsp;&nbsp;&nbsp;In this research, the researchers used homogeneous rectified linear networks to make the implementation of the model simpler and more efficient. They employed multi-GPU training to accelerate the training process through techniques such as data parallelism, model parallelism, and striding. Data parallelism involves processing multiple examples in parallel by concatenating them into a single matrix. In order to handle utterances with different lengths, they sorted the training examples by length and combined only similar-sized utterances into minibatches, padding with silence so that all utterances in the minibatch had the same length. Model parallelism involves partitioning the model to scale training based on time dimension. This was achieved by bidirectional parallelization, which involves splitting the time series into two halves and using two GPUs to compute the forward and backward activations in parallel. \n",
        "\\\n",
        "\\\n",
        "&nbsp;&nbsp;&nbsp;&nbsp;&nbsp;&nbsp;&nbsp;&nbsp;&nbsp;&nbsp;&nbsp;&nbsp;Despite an impressive Word Error Rate of 16% on the Switchboard hub's full test dataset, the approach described in the paper does have its limitations. The human transcriptionist word error rate is around 4% [\\[2\\]](#scrollTo=oIZM2e1Swt9Q), which is much lower than the 16% achieved by this model (Note that on clean audio samples, the performance of the model is much better: 6.5%). Therefore, it cannot yet compete with a human trancriptionist along the accuracy dimension.\n"
      ],
      "metadata": {
        "id": "I4J8dREKrp27"
      }
    },
    {
      "cell_type": "markdown",
      "source": [
        "#  Working with the existing code"
      ],
      "metadata": {
        "id": "Vdf28bFUwqNh"
      }
    },
    {
      "cell_type": "markdown",
      "source": [
        "*Note: the Quartz model is a recent improved model, with similar architectural choices as Deep Speech.*\n",
        "\n",
        "**What does the code do**:\n",
        "A youtube video's (popular clip from mission impossible TV series) audio is converted to waveform format. The Deep Speech [\\[15\\]](#scrollTo=oIZM2e1Swt9Q) and Quartz Net [\\[16\\]](#scrollTo=oIZM2e1Swt9Q) models are pythonically loaded. We then obtain the text output for both models, when fed with the waveform input. Finally, we display the text outputs along with the actual transcription and calculate Word Error Rate for both models.\n",
        "\n",
        "\n",
        "**Explanation per cell**:\n",
        "1. Relevant python3 packages are installed. Notable packages are 'deepspeech' (used by Deep Speech model), 'jiwer' (used to calculated Word Error Rate) and 'youtube-dl' (used to download wav audio from a youtube video)\n",
        "2. Packages are imported into Python\n",
        "3. CSS-based approach to ensure that text output wraps around, making it easier to read text\n",
        "4. Linux terminal commands to download the Quartz model and its underlying dependencies.\n",
        "5. A quick look at the youtube video chosen\n",
        "6. Extraction of audio from the youtube video and conversion using linux 'ffmpeg' too into a waveform file with the right audo codec and sampling frequency.\n",
        "7. The waveform file created in the last cell is loaded Pythonically and the Deep Speech model is run on the audio input.\n",
        "8. Python client setup for the Quartz net is created here. The process involves creating a manifest describing the audio file (length, file path, etc) and running inference on the audio.\n",
        "9. Side-by-side comparision of model outputs with an accurate transcription.\n",
        "10. Word Error rates for both model outputs are calculated and printed."
      ],
      "metadata": {
        "id": "RUVTULQhm90q"
      }
    },
    {
      "cell_type": "markdown",
      "source": [
        "\n",
        "The following changes were made to smoothen things out:\n",
        "\n",
        "---\n",
        "\n",
        "\n",
        "- A set_css() function which wraps text in output to make it easier to read long transcriptions\n",
        "- All pip commands were combined into one line in cell 2\n",
        "- A different youtube video was chosen than the one in the given notebooks, to make it easier to compare transcriptions (as this video is shorter and more fun)\n",
        "- Warnings were filtered out and ignored to make the outputs appear cleaner\n",
        "- The 'jiwer' module was imported to check Word Error rates for the outputs\n",
        "- Instead of using a bash command for running the deep speech command, a more Pythonic approach was used to make the code all-Python.\n",
        "- While using the Quartz network notebook, the specific format of the youtube video url was causing issues (403 HTTP errors); therefore, the URL is changed to reflect a more modern URL style.\n",
        "- Collected imports into one cell and added comments per cell\n",
        "\n",
        "---\n"
      ],
      "metadata": {
        "id": "JK-PaIHtx1Jt"
      }
    },
    {
      "cell_type": "code",
      "source": [
        "!pip3 -q install jiwer deepspeech wget youtube-dl wget jiwer tensorboardX kaldi-io marshmallow num2words ruamel.yaml soundfile sox torch-stft unidecode nemo-toolkit==0.9.0 nemo-asr==0.9.0 "
      ],
      "metadata": {
        "id": "BQPnFr-eGVCl",
        "colab": {
          "base_uri": "https://localhost:8080/"
        },
        "outputId": "fa6e5cf6-6eeb-4f68-ccef-d544ff84f9aa"
      },
      "execution_count": null,
      "outputs": [
        {
          "output_type": "stream",
          "name": "stdout",
          "text": [
            "\u001b[K     |████████████████████████████████| 9.2 MB 5.4 MB/s \n",
            "\u001b[K     |████████████████████████████████| 1.9 MB 51.1 MB/s \n",
            "\u001b[K     |████████████████████████████████| 125 kB 3.3 MB/s \n",
            "\u001b[K     |████████████████████████████████| 125 kB 51.8 MB/s \n",
            "\u001b[K     |████████████████████████████████| 109 kB 54.2 MB/s \n",
            "\u001b[K     |████████████████████████████████| 235 kB 57.8 MB/s \n",
            "\u001b[K     |████████████████████████████████| 77 kB 3.7 MB/s \n",
            "\u001b[K     |████████████████████████████████| 45 kB 3.3 MB/s \n",
            "\u001b[K     |████████████████████████████████| 13.5 MB 65.6 MB/s \n",
            "\u001b[K     |████████████████████████████████| 1.4 MB 55.1 MB/s \n",
            "\u001b[K     |████████████████████████████████| 2.2 MB 37.7 MB/s \n",
            "\u001b[K     |████████████████████████████████| 555 kB 73.9 MB/s \n",
            "\u001b[K     |████████████████████████████████| 13.1 MB 63.8 MB/s \n",
            "\u001b[?25h  Building wheel for wget (setup.py) ... \u001b[?25l\u001b[?25hdone\n",
            "  Building wheel for docopt (setup.py) ... \u001b[?25l\u001b[?25hdone\n"
          ]
        }
      ]
    },
    {
      "cell_type": "code",
      "source": [
        "import os\n",
        "import tqdm\n",
        "import json\n",
        "from ruamel.yaml import YAML\n",
        "import nemo\n",
        "import nemo_asr\n",
        "import deepspeech\n",
        "import wave\n",
        "import numpy as np\n",
        "import pandas as pd\n",
        "from jiwer import wer\n",
        "import warnings\n",
        "import logging\n",
        "logging.disable(logging.CRITICAL)\n",
        "warnings.filterwarnings('ignore')\n",
        "from IPython.display import HTML, display\n",
        "from IPython.display import YouTubeVideo"
      ],
      "metadata": {
        "colab": {
          "base_uri": "https://localhost:8080/"
        },
        "id": "Bm1CDtrw7V6o",
        "outputId": "c8d94363-d774-4c92-8e14-5e22b0d77a8e"
      },
      "execution_count": null,
      "outputs": [
        {
          "output_type": "stream",
          "name": "stdout",
          "text": [
            "Unable to import APEX. Mixed precision and distributed training will not work.\n"
          ]
        },
        {
          "output_type": "stream",
          "name": "stderr",
          "text": [
            "################################################################################\n",
            "### WARNING, path does not exist: KALDI_ROOT=/mnt/matylda5/iveselyk/Tools/kaldi-trunk\n",
            "###          (please add 'export KALDI_ROOT=<your_path>' in your $HOME/.profile)\n",
            "###          (or run as: KALDI_ROOT=<your_path> python <your_script>.py)\n",
            "################################################################################\n",
            "\n"
          ]
        }
      ]
    },
    {
      "cell_type": "code",
      "source": [
        "# Wrap text of cell outputs\n",
        "def set_css():\n",
        "  display(HTML('''\n",
        "  <style>\n",
        "    pre {\n",
        "      white-space: pre-wrap;\n",
        "    }\n",
        "  </style>\n",
        "  ''')) \n",
        "get_ipython().events.register('pre_run_cell', set_css)"
      ],
      "metadata": {
        "id": "2aycQXk36-cw"
      },
      "execution_count": null,
      "outputs": []
    },
    {
      "cell_type": "code",
      "source": [
        "!curl -LO https://github.com/mozilla/DeepSpeech/releases/download/v0.9.3/deepspeech-0.9.3-models.pbmm\n",
        "!curl -LO https://github.com/mozilla/DeepSpeech/releases/download/v0.9.3/deepspeech-0.9.3-models.scorer\n",
        "!git clone -q --depth 1 https://github.com/NVIDIA/apex\n",
        "!cd apex && pip install -q --no-cache-dir ./\n",
        "!wget -nc -q --show-progress -O quartznet15x5.zip https://api.ngc.nvidia.com/v2/models/nvidia/multidataset_quartznet15x5/versions/1/zip\n",
        "!unzip quartznet15x5.zip && mkdir quartznet15x5_multidataset && mv Jasper* quartznet15x5.yaml quartznet15x5_multidataset"
      ],
      "metadata": {
        "colab": {
          "base_uri": "https://localhost:8080/",
          "height": 312
        },
        "id": "qo81DsE7X9ij",
        "outputId": "f96c5d20-edad-4123-a590-2943d5abedca"
      },
      "execution_count": null,
      "outputs": [
        {
          "output_type": "display_data",
          "data": {
            "text/plain": [
              "<IPython.core.display.HTML object>"
            ],
            "text/html": [
              "\n",
              "  <style>\n",
              "    pre {\n",
              "      white-space: pre-wrap;\n",
              "    }\n",
              "  </style>\n",
              "  "
            ]
          },
          "metadata": {}
        },
        {
          "output_type": "stream",
          "name": "stdout",
          "text": [
            "  % Total    % Received % Xferd  Average Speed   Time    Time     Time  Current\n",
            "                                 Dload  Upload   Total   Spent    Left  Speed\n",
            "  0     0    0     0    0     0      0      0 --:--:-- --:--:-- --:--:--     0\n",
            "100  180M  100  180M    0     0  49.1M      0  0:00:03  0:00:03 --:--:-- 60.7M\n",
            "  % Total    % Received % Xferd  Average Speed   Time    Time     Time  Current\n",
            "                                 Dload  Upload   Total   Spent    Left  Speed\n",
            "  0     0    0     0    0     0      0      0 --:--:-- --:--:-- --:--:--     0\n",
            "100  909M  100  909M    0     0  75.5M      0  0:00:12  0:00:12 --:--:-- 74.1M\n",
            "\u001b[33m  DEPRECATION: A future pip version will change local packages to be built in-place without first copying to a temporary directory. We recommend you use --use-feature=in-tree-build to test your packages with this new behavior before it becomes the default.\n",
            "   pip 21.3 will remove support for this functionality. You can find discussion regarding this at https://github.com/pypa/pip/issues/7555.\u001b[0m\n",
            "  Building wheel for apex (setup.py) ... \u001b[?25l\u001b[?25hdone\n",
            "quartznet15x5.zip   100%[===================>]  67.86M  35.4MB/s    in 1.9s    \n",
            "Archive:  quartznet15x5.zip\n",
            "  inflating: JasperDecoderForCTC-STEP-243800.pt  \n",
            "  inflating: JasperEncoder-STEP-243800.pt  \n",
            "  inflating: quartznet15x5.yaml      \n"
          ]
        }
      ]
    },
    {
      "cell_type": "code",
      "source": [
        "# Display chosen youtube video \n",
        "YOUTUBE_ID = '0TiqXFssKMY'\n",
        "url = f\"https://www.youtube.com/watch?v={YOUTUBE_ID}\"\n",
        "actual_transcript = \"your mission should you choose to accept it is to get the document and bring anna kirk oscar to safety as always should you or any member of your im force be caught or killed the secretary will disavow any knowledge of your actions this tape will self destruct in five seconds\"\n",
        "YouTubeVideo(YOUTUBE_ID)"
      ],
      "metadata": {
        "colab": {
          "base_uri": "https://localhost:8080/",
          "height": 322
        },
        "id": "s6U4lhzvI37Z",
        "outputId": "d86bb3d8-ba90-4e8c-f60c-c0aea0ccdd3c"
      },
      "execution_count": null,
      "outputs": [
        {
          "output_type": "display_data",
          "data": {
            "text/plain": [
              "<IPython.core.display.HTML object>"
            ],
            "text/html": [
              "\n",
              "  <style>\n",
              "    pre {\n",
              "      white-space: pre-wrap;\n",
              "    }\n",
              "  </style>\n",
              "  "
            ]
          },
          "metadata": {}
        },
        {
          "output_type": "execute_result",
          "data": {
            "text/plain": [
              "<IPython.lib.display.YouTubeVideo at 0x7fb6a19befd0>"
            ],
            "text/html": [
              "\n",
              "        <iframe\n",
              "            width=\"400\"\n",
              "            height=\"300\"\n",
              "            src=\"https://www.youtube.com/embed/0TiqXFssKMY\"\n",
              "            frameborder=\"0\"\n",
              "            allowfullscreen\n",
              "        ></iframe>\n",
              "        "
            ],
            "image/jpeg": "[encoded data removed]"
          },
          "metadata": {},
          "execution_count": 5
        }
      ]
    },
    {
      "cell_type": "code",
      "source": [
        "!youtube-dl --extract-audio --audio-format wav --quiet --output \"downloaded.%(ext)s\" $url\n",
        "!ffmpeg  -y -i ./downloaded.wav -acodec pcm_s16le -ac 1 -ar 16000 test.wav"
      ],
      "metadata": {
        "colab": {
          "base_uri": "https://localhost:8080/",
          "height": 624
        },
        "id": "8HbQdO3FWboh",
        "outputId": "61b10366-0309-43d2-f5d7-98f9b31bfac5"
      },
      "execution_count": null,
      "outputs": [
        {
          "output_type": "display_data",
          "data": {
            "text/plain": [
              "<IPython.core.display.HTML object>"
            ],
            "text/html": [
              "\n",
              "  <style>\n",
              "    pre {\n",
              "      white-space: pre-wrap;\n",
              "    }\n",
              "  </style>\n",
              "  "
            ]
          },
          "metadata": {}
        },
        {
          "output_type": "stream",
          "name": "stdout",
          "text": [
            "ffmpeg version 3.4.11-0ubuntu0.1 Copyright (c) 2000-2022 the FFmpeg developers\n",
            "  built with gcc 7 (Ubuntu 7.5.0-3ubuntu1~18.04)\n",
            "  configuration: --prefix=/usr --extra-version=0ubuntu0.1 --toolchain=hardened --libdir=/usr/lib/x86_64-linux-gnu --incdir=/usr/include/x86_64-linux-gnu --enable-gpl --disable-stripping --enable-avresample --enable-avisynth --enable-gnutls --enable-ladspa --enable-libass --enable-libbluray --enable-libbs2b --enable-libcaca --enable-libcdio --enable-libflite --enable-libfontconfig --enable-libfreetype --enable-libfribidi --enable-libgme --enable-libgsm --enable-libmp3lame --enable-libmysofa --enable-libopenjpeg --enable-libopenmpt --enable-libopus --enable-libpulse --enable-librubberband --enable-librsvg --enable-libshine --enable-libsnappy --enable-libsoxr --enable-libspeex --enable-libssh --enable-libtheora --enable-libtwolame --enable-libvorbis --enable-libvpx --enable-libwavpack --enable-libwebp --enable-libx265 --enable-libxml2 --enable-libxvid --enable-libzmq --enable-libzvbi --enable-omx --enable-openal --enable-opengl --enable-sdl2 --enable-libdc1394 --enable-libdrm --enable-libiec61883 --enable-chromaprint --enable-frei0r --enable-libopencv --enable-libx264 --enable-shared\n",
            "  libavutil      55. 78.100 / 55. 78.100\n",
            "  libavcodec     57.107.100 / 57.107.100\n",
            "  libavformat    57. 83.100 / 57. 83.100\n",
            "  libavdevice    57. 10.100 / 57. 10.100\n",
            "  libavfilter     6.107.100 /  6.107.100\n",
            "  libavresample   3.  7.  0 /  3.  7.  0\n",
            "  libswscale      4.  8.100 /  4.  8.100\n",
            "  libswresample   2.  9.100 /  2.  9.100\n",
            "  libpostproc    54.  7.100 / 54.  7.100\n",
            "\u001b[0;33mGuessed Channel Layout for Input Stream #0.0 : stereo\n",
            "\u001b[0mInput #0, wav, from './downloaded.wav':\n",
            "  Metadata:\n",
            "    encoder         : Lavf57.83.100\n",
            "  Duration: 00:00:16.35, bitrate: 1411 kb/s\n",
            "    Stream #0:0: Audio: pcm_s16le ([1][0][0][0] / 0x0001), 44100 Hz, stereo, s16, 1411 kb/s\n",
            "Stream mapping:\n",
            "  Stream #0:0 -> #0:0 (pcm_s16le (native) -> pcm_s16le (native))\n",
            "Press [q] to stop, [?] for help\n",
            "Output #0, wav, to 'test.wav':\n",
            "  Metadata:\n",
            "    ISFT            : Lavf57.83.100\n",
            "    Stream #0:0: Audio: pcm_s16le ([1][0][0][0] / 0x0001), 16000 Hz, mono, s16, 256 kb/s\n",
            "    Metadata:\n",
            "      encoder         : Lavc57.107.100 pcm_s16le\n",
            "size=     511kB time=00:00:16.34 bitrate= 256.0kbits/s speed= 669x    \n",
            "video:0kB audio:511kB subtitle:0kB other streams:0kB global headers:0kB muxing overhead: 0.014911%\n"
          ]
        }
      ]
    },
    {
      "cell_type": "code",
      "source": [
        "# Load Deep Speech model and run on audio\n",
        "fin = wave.open('test.wav', 'rb')\n",
        "audio = np.frombuffer(fin.readframes(fin.getnframes()), np.int16)\n",
        "fin.close()\n",
        "ds = deepspeech.Model('deepspeech-0.9.3-models.pbmm')\n",
        "ds.enableExternalScorer('deepspeech-0.9.3-models.scorer')\n",
        "\n",
        "deepspeech_output = ds.stt(audio)"
      ],
      "metadata": {
        "colab": {
          "base_uri": "https://localhost:8080/",
          "height": 17
        },
        "id": "7Y-UdOsgmWgY",
        "outputId": "258c8d87-dca8-4af9-c427-46d533c867b4"
      },
      "execution_count": null,
      "outputs": [
        {
          "output_type": "display_data",
          "data": {
            "text/plain": [
              "<IPython.core.display.HTML object>"
            ],
            "text/html": [
              "\n",
              "  <style>\n",
              "    pre {\n",
              "      white-space: pre-wrap;\n",
              "    }\n",
              "  </style>\n",
              "  "
            ]
          },
          "metadata": {}
        }
      ]
    },
    {
      "cell_type": "code",
      "source": [
        "# Load Quartz model and run on audio\n",
        "\n",
        "WORK_DIR = \"/content/quartznet15x5_multidataset\"\n",
        "MODEL_YAML = \"/content/quartznet15x5_multidataset/quartznet15x5.yaml\"\n",
        "CHECKPOINT_ENCODER = \"/content/quartznet15x5_multidataset/JasperEncoder-STEP-243800.pt\"\n",
        "CHECKPOINT_DECODER = \"/content/quartznet15x5_multidataset/JasperDecoderForCTC-STEP-243800.pt\"\n",
        "\n",
        "# Read model YAML\n",
        "yaml = YAML(typ=\"safe\")\n",
        "with open(MODEL_YAML) as f:\n",
        "    jasper_model_definition = yaml.load(f)\n",
        "labels = jasper_model_definition['labels']\n",
        "\n",
        "# Instantiate necessary Neural Modules\n",
        "neural_factory = nemo.core.NeuralModuleFactory(\n",
        "    placement=nemo.core.DeviceType.CPU,\n",
        "    backend=nemo.core.Backend.PyTorch)\n",
        "data_preprocessor = nemo_asr.AudioToMelSpectrogramPreprocessor(factory=neural_factory)\n",
        "jasper_encoder = nemo_asr.JasperEncoder(\n",
        "    jasper=jasper_model_definition['JasperEncoder']['jasper'],\n",
        "    activation=jasper_model_definition['JasperEncoder']['activation'],\n",
        "    feat_in=jasper_model_definition['AudioToMelSpectrogramPreprocessor']['features'])\n",
        "jasper_encoder.restore_from(CHECKPOINT_ENCODER, local_rank=0)\n",
        "jasper_decoder = nemo_asr.JasperDecoderForCTC(\n",
        "    feat_in=1024,\n",
        "    num_classes=len(labels))\n",
        "jasper_decoder.restore_from(CHECKPOINT_DECODER, local_rank=0)\n",
        "greedy_decoder = nemo_asr.GreedyCTCDecoder()\n",
        "\n",
        "def wav_to_text(manifest, greedy=True):\n",
        "    yaml = YAML(typ=\"safe\")\n",
        "    with open(MODEL_YAML) as f:\n",
        "        jasper_model_definition = yaml.load(f)\n",
        "    labels = jasper_model_definition['labels']\n",
        "\n",
        "    # Instantiate necessary neural modules\n",
        "    data_layer = nemo_asr.AudioToTextDataLayer(\n",
        "        shuffle=False,\n",
        "        manifest_filepath=manifest,\n",
        "        labels=labels, batch_size=1)\n",
        "\n",
        "    # Define inference DAG\n",
        "    audio_signal, audio_signal_len, _, _ = data_layer()\n",
        "    processed_signal, processed_signal_len = data_preprocessor(\n",
        "        input_signal=audio_signal,\n",
        "        length=audio_signal_len)\n",
        "    encoded, encoded_len = jasper_encoder(audio_signal=processed_signal,\n",
        "                                          length=processed_signal_len)\n",
        "    log_probs = jasper_decoder(encoder_output=encoded)\n",
        "    predictions = greedy_decoder(log_probs=log_probs)\n",
        "\n",
        "    if greedy:\n",
        "        eval_tensors = [predictions]\n",
        "\n",
        "    tensors = neural_factory.infer(tensors=eval_tensors)\n",
        "    if greedy:\n",
        "        from nemo_asr.helpers import post_process_predictions\n",
        "        prediction = post_process_predictions(tensors[0], labels)\n",
        "    else:\n",
        "        prediction = tensors[0][0][0][0][1]\n",
        "    return prediction\n",
        "\n",
        "def create_manifest(file_path):\n",
        "    # create manifest\n",
        "    manifest = dict()\n",
        "    manifest['audio_filepath'] = file_path\n",
        "    manifest['duration'] = 18000\n",
        "    manifest['text'] = 'todo'\n",
        "    with open(file_path+\".json\", 'w') as fout:\n",
        "        fout.write(json.dumps(manifest))\n",
        "    return file_path+\".json\"\n",
        "\n",
        "quartz_output = wav_to_text(create_manifest('test.wav'))[0]"
      ],
      "metadata": {
        "colab": {
          "base_uri": "https://localhost:8080/",
          "height": 34
        },
        "id": "jUi1kZWCYNoS",
        "outputId": "88c01824-bccd-4d62-8e3e-cccdbffeefe7"
      },
      "execution_count": null,
      "outputs": [
        {
          "output_type": "display_data",
          "data": {
            "text/plain": [
              "<IPython.core.display.HTML object>"
            ],
            "text/html": [
              "\n",
              "  <style>\n",
              "    pre {\n",
              "      white-space: pre-wrap;\n",
              "    }\n",
              "  </style>\n",
              "  "
            ]
          },
          "metadata": {}
        },
        {
          "output_type": "stream",
          "name": "stdout",
          "text": [
            "STFT using torch\n"
          ]
        }
      ]
    },
    {
      "cell_type": "code",
      "source": [
        "print(f\"\\nACCURATE TRANSCRIPTION: {actual_transcript}\")\n",
        "print(f\"\\nDEEP SPEECH OUTPUT: {deepspeech_output}\")\n",
        "print(f\"\\nQUARTZ OUTPUT: {quartz_output}\")"
      ],
      "metadata": {
        "colab": {
          "base_uri": "https://localhost:8080/",
          "height": 173
        },
        "id": "TDxZEDggYbVd",
        "outputId": "6066dacf-0e42-443d-ded8-488959a4ac1e"
      },
      "execution_count": null,
      "outputs": [
        {
          "output_type": "display_data",
          "data": {
            "text/plain": [
              "<IPython.core.display.HTML object>"
            ],
            "text/html": [
              "\n",
              "  <style>\n",
              "    pre {\n",
              "      white-space: pre-wrap;\n",
              "    }\n",
              "  </style>\n",
              "  "
            ]
          },
          "metadata": {}
        },
        {
          "output_type": "stream",
          "name": "stdout",
          "text": [
            "\n",
            "ACCURATE TRANSCRIPTION: your mission should you choose to accept it is to get the document and bring anna kirk oscar to safety as always should you or any member of your im force be caught or killed the secretary will disavow any knowledge of your actions this tape will self destruct in five seconds\n",
            "\n",
            "DEEP SPEECH OUTPUT: your mission should you choose to accept it is to get the document then bringing unaccosted to safety as always should you or any member of your i am for beautified the secretary will disavow nolledge of your actions this tablet destructive five seconds\n",
            "\n",
            "QUARTZ OUTPUT: your mission should you choose to accept it is to get the document and bring anna car koska to safety as always should you or any member of your i am forsbe caught or killed the secretary will disallow any knowledge of your actions mis tables self destruct in five seconds\n"
          ]
        }
      ]
    },
    {
      "cell_type": "code",
      "source": [
        "# Calculate Word Error Rates\n",
        "print(f\"QUARTZ WER: {wer(actual_transcript, quartz_output)*100:.2f}%, DEEP SPEECH WER: {wer(actual_transcript, deepspeech_output)*100:.2f}%\")"
      ],
      "metadata": {
        "colab": {
          "base_uri": "https://localhost:8080/",
          "height": 34
        },
        "id": "erLl4G8eLDRF",
        "outputId": "440766ea-916b-4d65-fd5e-16bfcc9dff25"
      },
      "execution_count": null,
      "outputs": [
        {
          "output_type": "display_data",
          "data": {
            "text/plain": [
              "<IPython.core.display.HTML object>"
            ],
            "text/html": [
              "\n",
              "  <style>\n",
              "    pre {\n",
              "      white-space: pre-wrap;\n",
              "    }\n",
              "  </style>\n",
              "  "
            ]
          },
          "metadata": {}
        },
        {
          "output_type": "stream",
          "name": "stdout",
          "text": [
            "QUARTZ WER: 17.31%, DEEP SPEECH WER: 34.62%\n"
          ]
        }
      ]
    },
    {
      "cell_type": "markdown",
      "source": [
        "# Validating a claim"
      ],
      "metadata": {
        "id": "OgwFmutkwsbr"
      }
    },
    {
      "cell_type": "markdown",
      "source": [
        "*References : Libri Speech dataset - [\\[14\\]](#scrollTo=oIZM2e1Swt9Q) (added above as Markdown syntax does not work within HTML tags)*\n",
        "\n",
        "<p align=justify>\n",
        "We validate the claim that a deep-learning based approach obtains a 6.56% WER on clean (not noisy) audio samples.  This claim is foundational to justifying the use of deep learning for speech recognition, as it approaches the 4% WER accomplished by human transcriptionists.  By validating this claim, we learn that deep neural networks are a powerful tool that can be applied successfully on the problem of speech recognition.\n",
        "<br /><br />\n",
        "The other claims, such as validating that the model works well in a noisy environment would require access to datasets that are either hard to curate (noisy speech datasets), impossible (Baidu's internal dataset isn't public) or expensive (Switchboard Hub5'00 costs 1000+ dollars).\n",
        "<br /><br />\n",
        "In order to test the models, a subset of the clean test section of open source LibriSpeech dataset is used. We run 150 sound clips through the and calculate word error rate of following models: Deep Speech and Quartz Net. To ease the process, we uploaded part of the dataset to Github along with a csv file containing transcriptions (the csv was constructed on my local system using basic python scripting). We find that the WER rate for the two deep learning models ranges from 9 to 4 percent, which is within the ballpark of the stated value of 6 percent.\n",
        "<br /><br />\n",
        "As a bonus addition, we've included model outputs for a 3 minutes excerpt from a noisy-environment conversation between space Youtuber Scott Manley and the developers of the game 'Kerbal Space Program'. While this does not count as a  validation as it is one example and we do not have the original transcript to compare against, it does give us a subjective peek at model performance in a noisy environment.\n",
        "<br /><br .>\n",
        "No code apart from our own was used in this section.\n",
        "</p>"
      ],
      "metadata": {
        "id": "9XpCM4l4sJiu"
      }
    },
    {
      "cell_type": "code",
      "source": [
        "!rm -rf ./librispeech_subset\n",
        "!git clone -q https://github.com/VivekBits2210/librispeech_subset.git\n",
        "!unrar x ./librispeech_subset/processed_audio.rar"
      ],
      "metadata": {
        "colab": {
          "base_uri": "https://localhost:8080/",
          "height": 1000
        },
        "id": "uZ9Mk3gJkrnB",
        "outputId": "f5c06116-e9c8-4b4d-cac1-9bc90803be45"
      },
      "execution_count": null,
      "outputs": [
        {
          "output_type": "display_data",
          "data": {
            "text/plain": [
              "<IPython.core.display.HTML object>"
            ],
            "text/html": [
              "\n",
              "  <style>\n",
              "    pre {\n",
              "      white-space: pre-wrap;\n",
              "    }\n",
              "  </style>\n",
              "  "
            ]
          },
          "metadata": {}
        },
        {
          "output_type": "stream",
          "name": "stdout",
          "text": [
            "\n",
            "UNRAR 5.50 freeware      Copyright (c) 1993-2017 Alexander Roshal\n",
            "\n",
            "\n",
            "Extracting from ./librispeech_subset/processed_audio.rar\n",
            "\n",
            "Creating    processed_audio                                           OK\n",
            "Extracting  processed_audio/1993-147149-0000.flac                        \b\b\b\b  0%\b\b\b\b\b  OK \n",
            "Extracting  processed_audio/1993-147149-0001.flac                        \b\b\b\b  0%\b\b\b\b\b  OK \n",
            "Extracting  processed_audio/1993-147149-0002.flac                        \b\b\b\b  1%\b\b\b\b\b  OK \n",
            "Extracting  processed_audio/1993-147149-0003.flac                        \b\b\b\b  2%\b\b\b\b\b  OK \n",
            "Extracting  processed_audio/1993-147149-0004.flac                        \b\b\b\b  2%\b\b\b\b\b  OK \n",
            "Extracting  processed_audio/1993-147149-0005.flac                        \b\b\b\b  3%\b\b\b\b\b  OK \n",
            "Extracting  processed_audio/1993-147149-0006.flac                        \b\b\b\b  4%\b\b\b\b\b  OK \n",
            "Extracting  processed_audio/1993-147149-0007.flac                        \b\b\b\b  5%\b\b\b\b\b  OK \n",
            "Extracting  processed_audio/1993-147149-0008.flac                        \b\b\b\b  5%\b\b\b\b\b  OK \n",
            "Extracting  processed_audio/1993-147149-0009.flac                        \b\b\b\b  6%\b\b\b\b\b  OK \n",
            "Extracting  processed_audio/1993-147149-0010.flac                        \b\b\b\b  6%\b\b\b\b\b  OK \n",
            "Extracting  processed_audio/1993-147149-0011.flac                        \b\b\b\b  6%\b\b\b\b\b  OK \n",
            "Extracting  processed_audio/1993-147149-0012.flac                        \b\b\b\b  7%\b\b\b\b\b  OK \n",
            "Extracting  processed_audio/1993-147149-0013.flac                        \b\b\b\b  7%\b\b\b\b\b  OK \n",
            "Extracting  processed_audio/1993-147149-0014.flac                        \b\b\b\b  7%\b\b\b\b\b  OK \n",
            "Extracting  processed_audio/1993-147149-0015.flac                        \b\b\b\b  8%\b\b\b\b\b  OK \n",
            "Extracting  processed_audio/1993-147149-0016.flac                        \b\b\b\b  8%\b\b\b\b\b  OK \n",
            "Extracting  processed_audio/1993-147149-0017.flac                        \b\b\b\b  8%\b\b\b\b\b  OK \n",
            "Extracting  processed_audio/1993-147149-0018.flac                        \b\b\b\b  9%\b\b\b\b\b  OK \n",
            "Extracting  processed_audio/1993-147149-0019.flac                        \b\b\b\b  9%\b\b\b\b\b  OK \n",
            "Extracting  processed_audio/1993-147149-0020.flac                        \b\b\b\b 11%\b\b\b\b\b  OK \n",
            "Extracting  processed_audio/1993-147149-0021.flac                        \b\b\b\b 11%\b\b\b\b\b  OK \n",
            "Extracting  processed_audio/1993-147149-0022.flac                        \b\b\b\b 12%\b\b\b\b\b  OK \n",
            "Extracting  processed_audio/1993-147149-0023.flac                        \b\b\b\b 13%\b\b\b\b\b  OK \n",
            "Extracting  processed_audio/1993-147149-0024.flac                        \b\b\b\b 14%\b\b\b\b\b  OK \n",
            "Extracting  processed_audio/1993-147149-0025.flac                        \b\b\b\b 14%\b\b\b\b\b  OK \n",
            "Extracting  processed_audio/1993-147149-0026.flac                        \b\b\b\b 14%\b\b\b\b\b  OK \n",
            "Extracting  processed_audio/1993-147149-0027.flac                        \b\b\b\b 15%\b\b\b\b\b  OK \n",
            "Extracting  processed_audio/1993-147149-0028.flac                        \b\b\b\b 16%\b\b\b\b\b  OK \n",
            "Extracting  processed_audio/1993-147149-0029.flac                        \b\b\b\b 17%\b\b\b\b\b  OK \n",
            "Extracting  processed_audio/1993-147149-0030.flac                        \b\b\b\b 17%\b\b\b\b\b  OK \n",
            "Extracting  processed_audio/1993-147964-0000.flac                        \b\b\b\b 18%\b\b\b\b\b  OK \n",
            "Extracting  processed_audio/1993-147964-0001.flac                        \b\b\b\b 19%\b\b\b\b\b  OK \n",
            "Extracting  processed_audio/1993-147964-0002.flac                        \b\b\b\b 19%\b\b\b\b\b  OK \n",
            "Extracting  processed_audio/1993-147964-0003.flac                        \b\b\b\b 20%\b\b\b\b\b  OK \n",
            "Extracting  processed_audio/1993-147964-0004.flac                        \b\b\b\b 20%\b\b\b\b\b  OK \n",
            "Extracting  processed_audio/1993-147964-0005.flac                        \b\b\b\b 21%\b\b\b\b\b  OK \n",
            "Extracting  processed_audio/1993-147964-0006.flac                        \b\b\b\b 21%\b\b\b\b\b  OK \n",
            "Extracting  processed_audio/1993-147964-0007.flac                        \b\b\b\b 22%\b\b\b\b\b  OK \n",
            "Extracting  processed_audio/1993-147964-0008.flac                        \b\b\b\b 23%\b\b\b\b\b  OK \n",
            "Extracting  processed_audio/1993-147964-0009.flac                        \b\b\b\b 23%\b\b\b\b\b  OK \n",
            "Extracting  processed_audio/1993-147964-0010.flac                        \b\b\b\b 25%\b\b\b\b\b  OK \n",
            "Extracting  processed_audio/1993-147965-0000.flac                        \b\b\b\b 26%\b\b\b\b\b  OK \n",
            "Extracting  processed_audio/1993-147965-0001.flac                        \b\b\b\b 26%\b\b\b\b\b  OK \n",
            "Extracting  processed_audio/1993-147965-0002.flac                        \b\b\b\b 27%\b\b\b\b\b  OK \n",
            "Extracting  processed_audio/1993-147965-0003.flac                        \b\b\b\b 27%\b\b\b\b\b  OK \n",
            "Extracting  processed_audio/1993-147965-0004.flac                        \b\b\b\b 27%\b\b\b\b\b  OK \n",
            "Extracting  processed_audio/1993-147965-0005.flac                        \b\b\b\b 28%\b\b\b\b\b  OK \n",
            "Extracting  processed_audio/1993-147965-0006.flac                        \b\b\b\b 29%\b\b\b\b\b  OK \n",
            "Extracting  processed_audio/1993-147965-0007.flac                        \b\b\b\b 30%\b\b\b\b\b  OK \n",
            "Extracting  processed_audio/1993-147965-0008.flac                        \b\b\b\b 30%\b\b\b\b\b  OK \n",
            "Extracting  processed_audio/1993-147966-0000.flac                        \b\b\b\b 31%\b\b\b\b\b  OK \n",
            "Extracting  processed_audio/1993-147966-0001.flac                        \b\b\b\b 32%\b\b\b\b\b  OK \n",
            "Extracting  processed_audio/1993-147966-0002.flac                        \b\b\b\b 32%\b\b\b\b\b  OK \n",
            "Extracting  processed_audio/1993-147966-0003.flac                        \b\b\b\b 33%\b\b\b\b\b  OK \n",
            "Extracting  processed_audio/1993-147966-0004.flac                        \b\b\b\b 33%\b\b\b\b\b  OK \n",
            "Extracting  processed_audio/1993-147966-0005.flac                        \b\b\b\b 33%\b\b\b\b\b  OK \n",
            "Extracting  processed_audio/1993-147966-0006.flac                        \b\b\b\b 34%\b\b\b\b\b  OK \n",
            "Extracting  processed_audio/2086-149214-0000.flac                        \b\b\b\b 34%\b\b\b\b\b  OK \n",
            "Extracting  processed_audio/2086-149214-0001.flac                        \b\b\b\b 35%\b\b\b\b\b  OK \n",
            "Extracting  processed_audio/2086-149214-0002.flac                        \b\b\b\b 36%\b\b\b\b\b  OK \n",
            "Extracting  processed_audio/2086-149214-0003.flac                        \b\b\b\b 37%\b\b\b\b\b  OK \n",
            "Extracting  processed_audio/2086-149214-0004.flac                        \b\b\b\b 38%\b\b\b\b\b  OK \n",
            "Extracting  processed_audio/2086-149220-0000.flac                        \b\b\b\b 39%\b\b\b\b\b  OK \n",
            "Extracting  processed_audio/2086-149220-0001.flac                        \b\b\b\b 40%\b\b\b\b\b  OK \n",
            "Extracting  processed_audio/2086-149220-0002.flac                        \b\b\b\b 41%\b\b\b\b\b  OK \n",
            "Extracting  processed_audio/2086-149220-0003.flac                        \b\b\b\b 43%\b\b\b\b\b  OK \n",
            "Extracting  processed_audio/2086-149220-0004.flac                        \b\b\b\b 43%\b\b\b\b\b  OK \n",
            "Extracting  processed_audio/2086-149220-0005.flac                        \b\b\b\b 44%\b\b\b\b\b  OK \n",
            "Extracting  processed_audio/2086-149220-0006.flac                        \b\b\b\b 44%\b\b\b\b\b  OK \n",
            "Extracting  processed_audio/2086-149220-0007.flac                        \b\b\b\b 45%\b\b\b\b\b  OK \n",
            "Extracting  processed_audio/2086-149220-0008.flac                        \b\b\b\b 45%\b\b\b\b\b  OK \n",
            "Extracting  processed_audio/2086-149220-0009.flac                        \b\b\b\b 46%\b\b\b\b\b  OK \n",
            "Extracting  processed_audio/2086-149220-0010.flac                        \b\b\b\b 47%\b\b\b\b\b  OK \n",
            "Extracting  processed_audio/2086-149220-0011.flac                        \b\b\b\b 48%\b\b\b\b\b  OK \n",
            "Extracting  processed_audio/2086-149220-0012.flac                        \b\b\b\b 49%\b\b\b\b\b  OK \n",
            "Extracting  processed_audio/2086-149220-0013.flac                        \b\b\b\b 51%\b\b\b\b\b  OK \n",
            "Extracting  processed_audio/2086-149220-0014.flac                        \b\b\b\b 51%\b\b\b\b\b  OK \n",
            "Extracting  processed_audio/2086-149220-0015.flac                        \b\b\b\b 52%\b\b\b\b\b  OK \n",
            "Extracting  processed_audio/2086-149220-0016.flac                        \b\b\b\b 52%\b\b\b\b\b  OK \n",
            "Extracting  processed_audio/2086-149220-0017.flac                        \b\b\b\b 53%\b\b\b\b\b  OK \n",
            "Extracting  processed_audio/2086-149220-0018.flac                        \b\b\b\b 53%\b\b\b\b\b  OK \n",
            "Extracting  processed_audio/2086-149220-0019.flac                        \b\b\b\b 54%\b\b\b\b\b  OK \n",
            "Extracting  processed_audio/2086-149220-0020.flac                        \b\b\b\b 54%\b\b\b\b\b  OK \n",
            "Extracting  processed_audio/2086-149220-0021.flac                        \b\b\b\b 55%\b\b\b\b\b  OK \n",
            "Extracting  processed_audio/2086-149220-0022.flac                        \b\b\b\b 55%\b\b\b\b\b  OK \n",
            "Extracting  processed_audio/2086-149220-0023.flac                        \b\b\b\b 56%\b\b\b\b\b  OK \n",
            "Extracting  processed_audio/2086-149220-0024.flac                        \b\b\b\b 56%\b\b\b\b\b  OK \n",
            "Extracting  processed_audio/2086-149220-0025.flac                        \b\b\b\b 57%\b\b\b\b\b  OK \n",
            "Extracting  processed_audio/2086-149220-0026.flac                        \b\b\b\b 57%\b\b\b\b\b  OK \n",
            "Extracting  processed_audio/2086-149220-0027.flac                        \b\b\b\b 57%\b\b\b\b\b  OK \n",
            "Extracting  processed_audio/2086-149220-0028.flac                        \b\b\b\b 57%\b\b\b\b\b  OK \n",
            "Extracting  processed_audio/2086-149220-0029.flac                        \b\b\b\b 58%\b\b\b\b\b  OK \n",
            "Extracting  processed_audio/2086-149220-0030.flac                        \b\b\b\b 58%\b\b\b\b\b  OK \n",
            "Extracting  processed_audio/2086-149220-0031.flac                        \b\b\b\b 59%\b\b\b\b\b  OK \n",
            "Extracting  processed_audio/2086-149220-0032.flac                        \b\b\b\b 59%\b\b\b\b\b  OK \n",
            "Extracting  processed_audio/2086-149220-0033.flac                        \b\b\b\b 60%\b\b\b\b\b  OK \n",
            "Extracting  processed_audio/2086-149220-0034.flac                        \b\b\b\b 60%\b\b\b\b\b  OK \n",
            "Extracting  processed_audio/2086-149220-0035.flac                        \b\b\b\b 61%\b\b\b\b\b  OK \n",
            "Extracting  processed_audio/2086-149220-0036.flac                        \b\b\b\b 61%\b\b\b\b\b  OK \n",
            "Extracting  processed_audio/2086-149220-0037.flac                        \b\b\b\b 61%\b\b\b\b\b  OK \n",
            "Extracting  processed_audio/2086-149220-0038.flac                        \b\b\b\b 62%\b\b\b\b\b  OK \n",
            "Extracting  processed_audio/2086-149220-0039.flac                        \b\b\b\b 62%\b\b\b\b\b  OK \n",
            "Extracting  processed_audio/2086-149220-0040.flac                        \b\b\b\b 62%\b\b\b\b\b  OK \n",
            "Extracting  processed_audio/2086-149220-0041.flac                        \b\b\b\b 63%\b\b\b\b\b  OK \n",
            "Extracting  processed_audio/2086-149220-0042.flac                        \b\b\b\b 63%\b\b\b\b\b  OK \n",
            "Extracting  processed_audio/2086-149220-0043.flac                        \b\b\b\b 64%\b\b\b\b\b  OK \n",
            "Extracting  processed_audio/2086-149220-0044.flac                        \b\b\b\b 64%\b\b\b\b\b  OK \n",
            "Extracting  processed_audio/2086-149220-0045.flac                        \b\b\b\b 64%\b\b\b\b\b  OK \n",
            "Extracting  processed_audio/2086-149220-0046.flac                        \b\b\b\b 64%\b\b\b\b\b  OK \n",
            "Extracting  processed_audio/2086-149220-0047.flac                        \b\b\b\b 65%\b\b\b\b\b  OK \n",
            "Extracting  processed_audio/2086-149220-0048.flac                        \b\b\b\b 65%\b\b\b\b\b  OK \n",
            "Extracting  processed_audio/2086-149220-0049.flac                        \b\b\b\b 66%\b\b\b\b\b  OK \n",
            "Extracting  processed_audio/777-126732-0000.flac                         \b\b\b\b 66%\b\b\b\b\b  OK \n",
            "Extracting  processed_audio/777-126732-0001.flac                         \b\b\b\b 66%\b\b\b\b\b  OK \n",
            "Extracting  processed_audio/777-126732-0002.flac                         \b\b\b\b 67%\b\b\b\b\b  OK \n",
            "Extracting  processed_audio/777-126732-0003.flac                         \b\b\b\b 67%\b\b\b\b\b  OK \n",
            "Extracting  processed_audio/777-126732-0004.flac                         \b\b\b\b 68%\b\b\b\b\b  OK \n",
            "Extracting  processed_audio/777-126732-0005.flac                         \b\b\b\b 69%\b\b\b\b\b  OK \n",
            "Extracting  processed_audio/777-126732-0006.flac                         \b\b\b\b 69%\b\b\b\b\b  OK \n",
            "Extracting  processed_audio/777-126732-0007.flac                         \b\b\b\b 70%\b\b\b\b\b  OK \n",
            "Extracting  processed_audio/777-126732-0008.flac                         \b\b\b\b 70%\b\b\b\b\b  OK \n",
            "Extracting  processed_audio/777-126732-0009.flac                         \b\b\b\b 70%\b\b\b\b\b  OK \n",
            "Extracting  processed_audio/777-126732-0010.flac                         \b\b\b\b 71%\b\b\b\b\b  OK \n",
            "Extracting  processed_audio/777-126732-0011.flac                         \b\b\b\b 71%\b\b\b\b\b  OK \n",
            "Extracting  processed_audio/777-126732-0012.flac                         \b\b\b\b 72%\b\b\b\b\b  OK \n",
            "Extracting  processed_audio/777-126732-0013.flac                         \b\b\b\b 73%\b\b\b\b\b  OK \n",
            "Extracting  processed_audio/777-126732-0014.flac                         \b\b\b\b 73%\b\b\b\b\b  OK \n",
            "Extracting  processed_audio/777-126732-0015.flac                         \b\b\b\b 74%\b\b\b\b\b  OK \n",
            "Extracting  processed_audio/777-126732-0016.flac                         \b\b\b\b 75%\b\b\b\b\b  OK \n",
            "Extracting  processed_audio/777-126732-0017.flac                         \b\b\b\b 75%\b\b\b\b\b  OK \n",
            "Extracting  processed_audio/777-126732-0018.flac                         \b\b\b\b 75%\b\b\b\b\b  OK \n",
            "Extracting  processed_audio/777-126732-0019.flac                         \b\b\b\b 75%\b\b\b\b\b  OK \n",
            "Extracting  processed_audio/777-126732-0020.flac                         \b\b\b\b 76%\b\b\b\b\b  OK \n",
            "Extracting  processed_audio/777-126732-0021.flac                         \b\b\b\b 76%\b\b\b\b\b  OK \n",
            "Extracting  processed_audio/777-126732-0022.flac                         \b\b\b\b 76%\b\b\b\b\b  OK \n",
            "Extracting  processed_audio/777-126732-0023.flac                         \b\b\b\b 77%\b\b\b\b\b  OK \n",
            "Extracting  processed_audio/777-126732-0024.flac                         \b\b\b\b 78%\b\b\b\b\b  OK \n",
            "Extracting  processed_audio/777-126732-0025.flac                         \b\b\b\b 78%\b\b\b\b\b  OK \n",
            "Extracting  processed_audio/777-126732-0026.flac                         \b\b\b\b 78%\b\b\b\b\b  OK \n",
            "Extracting  processed_audio/777-126732-0027.flac                         \b\b\b\b 79%\b\b\b\b\b  OK \n",
            "Extracting  processed_audio/777-126732-0028.flac                         \b\b\b\b 79%\b\b\b\b\b  OK \n",
            "Extracting  processed_audio/777-126732-0029.flac                         \b\b\b\b 80%\b\b\b\b\b  OK \n",
            "Extracting  processed_audio/777-126732-0030.flac                         \b\b\b\b 80%\b\b\b\b\b  OK \n",
            "Extracting  processed_audio/777-126732-0031.flac                         \b\b\b\b 81%\b\b\b\b\b  OK \n",
            "Extracting  processed_audio/777-126732-0032.flac                         \b\b\b\b 81%\b\b\b\b\b  OK \n",
            "Extracting  processed_audio/777-126732-0033.flac                         \b\b\b\b 81%\b\b\b\b\b  OK \n",
            "Extracting  processed_audio/777-126732-0034.flac                         \b\b\b\b 82%\b\b\b\b\b  OK \n",
            "Extracting  processed_audio/777-126732-0035.flac                         \b\b\b\b 82%\b\b\b\b\b  OK \n",
            "Extracting  processed_audio/777-126732-0036.flac                         \b\b\b\b 83%\b\b\b\b\b  OK \n",
            "Extracting  processed_audio/777-126732-0037.flac                         \b\b\b\b 83%\b\b\b\b\b  OK \n",
            "Extracting  processed_audio/777-126732-0038.flac                         \b\b\b\b 83%\b\b\b\b\b  OK \n",
            "Extracting  processed_audio/777-126732-0039.flac                         \b\b\b\b 83%\b\b\b\b\b  OK \n",
            "Extracting  processed_audio/777-126732-0040.flac                         \b\b\b\b 84%\b\b\b\b\b  OK \n",
            "Extracting  processed_audio/777-126732-0041.flac                         \b\b\b\b 85%\b\b\b\b\b  OK \n",
            "Extracting  processed_audio/777-126732-0042.flac                         \b\b\b\b 85%\b\b\b\b\b  OK \n",
            "Extracting  processed_audio/777-126732-0043.flac                         \b\b\b\b 85%\b\b\b\b\b  OK \n",
            "Extracting  processed_audio/777-126732-0044.flac                         \b\b\b\b 85%\b\b\b\b\b  OK \n",
            "Extracting  processed_audio/777-126732-0045.flac                         \b\b\b\b 86%\b\b\b\b\b  OK \n",
            "Extracting  processed_audio/777-126732-0046.flac                         \b\b\b\b 86%\b\b\b\b\b  OK \n",
            "Extracting  processed_audio/777-126732-0047.flac                         \b\b\b\b 87%\b\b\b\b\b  OK \n",
            "Extracting  processed_audio/777-126732-0048.flac                         \b\b\b\b 87%\b\b\b\b\b  OK \n",
            "Extracting  processed_audio/777-126732-0049.flac                         \b\b\b\b 87%\b\b\b\b\b  OK \n",
            "Extracting  processed_audio/777-126732-0050.flac                         \b\b\b\b 88%\b\b\b\b\b  OK \n",
            "Extracting  processed_audio/777-126732-0051.flac                         \b\b\b\b 88%\b\b\b\b\b  OK \n",
            "Extracting  processed_audio/777-126732-0052.flac                         \b\b\b\b 88%\b\b\b\b\b  OK \n",
            "Extracting  processed_audio/777-126732-0053.flac                         \b\b\b\b 89%\b\b\b\b\b  OK \n",
            "Extracting  processed_audio/777-126732-0054.flac                         \b\b\b\b 89%\b\b\b\b\b  OK \n",
            "Extracting  processed_audio/777-126732-0055.flac                         \b\b\b\b 89%\b\b\b\b\b  OK \n",
            "Extracting  processed_audio/777-126732-0056.flac                         \b\b\b\b 90%\b\b\b\b\b  OK \n",
            "Extracting  processed_audio/777-126732-0057.flac                         \b\b\b\b 91%\b\b\b\b\b  OK \n",
            "Extracting  processed_audio/777-126732-0058.flac                         \b\b\b\b 91%\b\b\b\b\b  OK \n",
            "Extracting  processed_audio/777-126732-0059.flac                         \b\b\b\b 91%\b\b\b\b\b  OK \n",
            "Extracting  processed_audio/777-126732-0060.flac                         \b\b\b\b 92%\b\b\b\b\b  OK \n",
            "Extracting  processed_audio/777-126732-0061.flac                         \b\b\b\b 92%\b\b\b\b\b  OK \n",
            "Extracting  processed_audio/777-126732-0062.flac                         \b\b\b\b 92%\b\b\b\b\b  OK \n",
            "Extracting  processed_audio/777-126732-0063.flac                         \b\b\b\b 94%\b\b\b\b\b  OK \n",
            "Extracting  processed_audio/777-126732-0064.flac                         \b\b\b\b 94%\b\b\b\b\b  OK \n",
            "Extracting  processed_audio/777-126732-0065.flac                         \b\b\b\b 94%\b\b\b\b\b  OK \n",
            "Extracting  processed_audio/777-126732-0066.flac                         \b\b\b\b 95%\b\b\b\b\b  OK \n",
            "Extracting  processed_audio/777-126732-0067.flac                         \b\b\b\b 96%\b\b\b\b\b  OK \n",
            "Extracting  processed_audio/777-126732-0068.flac                         \b\b\b\b 96%\b\b\b\b\b  OK \n",
            "Extracting  processed_audio/777-126732-0069.flac                         \b\b\b\b 96%\b\b\b\b\b  OK \n",
            "Extracting  processed_audio/777-126732-0070.flac                         \b\b\b\b 97%\b\b\b\b\b  OK \n",
            "Extracting  processed_audio/777-126732-0071.flac                         \b\b\b\b 97%\b\b\b\b\b  OK \n",
            "Extracting  processed_audio/777-126732-0072.flac                         \b\b\b\b 97%\b\b\b\b\b  OK \n",
            "Extracting  processed_audio/777-126732-0073.flac                         \b\b\b\b 97%\b\b\b\b\b  OK \n",
            "Extracting  processed_audio/777-126732-0074.flac                         \b\b\b\b 98%\b\b\b\b\b  OK \n",
            "Extracting  processed_audio/777-126732-0075.flac                         \b\b\b\b 98%\b\b\b\b\b  OK \n",
            "Extracting  processed_audio/777-126732-0076.flac                         \b\b\b\b 98%\b\b\b\b\b  OK \n",
            "Extracting  processed_audio/777-126732-0077.flac                         \b\b\b\b 98%\b\b\b\b\b  OK \n",
            "Extracting  processed_audio/777-126732-0078.flac                         \b\b\b\b 98%\b\b\b\b\b  OK \n",
            "Extracting  processed_audio/777-126732-0079.flac                         \b\b\b\b 99%\b\b\b\b\b  OK \n",
            "Extracting  processed_audio/777-126732-0080.flac                         \b\b\b\b 99%\b\b\b\b\b  OK \n",
            "Extracting  processed_audio/777-126732-0081.flac                         \b\b\b\b 99%\b\b\b\b\b  OK \n",
            "All OK\n"
          ]
        }
      ]
    },
    {
      "cell_type": "code",
      "source": [
        "transcript_df = pd.read_csv('./librispeech_subset/transcripts.csv')\n",
        "transcript_df['quartz_output'] = ''\n",
        "transcript_df['ds_output'] = ''\n",
        "transcript_df.sample(20)"
      ],
      "metadata": {
        "colab": {
          "base_uri": "https://localhost:8080/",
          "height": 676
        },
        "id": "xSx301cKn-df",
        "outputId": "dbe38a1a-db13-41b2-eb39-9bd47b405188"
      },
      "execution_count": null,
      "outputs": [
        {
          "output_type": "display_data",
          "data": {
            "text/plain": [
              "<IPython.core.display.HTML object>"
            ],
            "text/html": [
              "\n",
              "  <style>\n",
              "    pre {\n",
              "      white-space: pre-wrap;\n",
              "    }\n",
              "  </style>\n",
              "  "
            ]
          },
          "metadata": {}
        },
        {
          "output_type": "execute_result",
          "data": {
            "text/plain": [
              "            file_name                                         transcript  \\\n",
              "29   1993-147149-0029  it was a comfort to her when scolded by miss s...   \n",
              "123   777-126732-0010  and i could never get as many as three such me...   \n",
              "71   2086-149220-0008  it was evident that the race had degenerated l...   \n",
              "81   2086-149220-0018  i prefer to think and so would miss hepzibah t...   \n",
              "3    1993-147149-0003  the board not so formidable as she had imagine...   \n",
              "97   2086-149220-0034  if the original is still in the world i think ...   \n",
              "10   1993-147149-0010         wishing him said mary in a tone of inquiry   \n",
              "43   1993-147965-0001             morning prayers were longer than usual   \n",
              "62   2086-149214-0004  he trusts not to be considered as unpardonably...   \n",
              "112  2086-149220-0049  at some uncertain period in the depths of nigh...   \n",
              "182   777-126732-0069  if i had known they were coming to night i wou...   \n",
              "63   2086-149220-0000  the enclosure had formerly been very extensive...   \n",
              "70   2086-149220-0007  it now contained only chanticleer his two wive...   \n",
              "162   777-126732-0049                       this survey was unfavourable   \n",
              "16   1993-147149-0016  but he stayed long there and at last his sturd...   \n",
              "22   1993-147149-0022  so leaving kind messages to george and jane wi...   \n",
              "190   777-126732-0077                he gets a red face poring over them   \n",
              "173   777-126732-0060  the comparison occurred to mister verloc becau...   \n",
              "19   1993-147149-0019  don't jem please don't whispered she again bel...   \n",
              "145   777-126732-0032  his scared eyes blazed with indignation it wou...   \n",
              "\n",
              "    quartz_output ds_output  \n",
              "29                           \n",
              "123                          \n",
              "71                           \n",
              "81                           \n",
              "3                            \n",
              "97                           \n",
              "10                           \n",
              "43                           \n",
              "62                           \n",
              "112                          \n",
              "182                          \n",
              "63                           \n",
              "70                           \n",
              "162                          \n",
              "16                           \n",
              "22                           \n",
              "190                          \n",
              "173                          \n",
              "19                           \n",
              "145                          "
            ],
            "text/html": [
              "\n",
              "  <div id=\"df-8e88e234-5708-4909-98c2-0d33dbe30070\">\n",
              "    <div class=\"colab-df-container\">\n",
              "      <div>\n",
              "<style scoped>\n",
              "    .dataframe tbody tr th:only-of-type {\n",
              "        vertical-align: middle;\n",
              "    }\n",
              "\n",
              "    .dataframe tbody tr th {\n",
              "        vertical-align: top;\n",
              "    }\n",
              "\n",
              "    .dataframe thead th {\n",
              "        text-align: right;\n",
              "    }\n",
              "</style>\n",
              "<table border=\"1\" class=\"dataframe\">\n",
              "  <thead>\n",
              "    <tr style=\"text-align: right;\">\n",
              "      <th></th>\n",
              "      <th>file_name</th>\n",
              "      <th>transcript</th>\n",
              "      <th>quartz_output</th>\n",
              "      <th>ds_output</th>\n",
              "    </tr>\n",
              "  </thead>\n",
              "  <tbody>\n",
              "    <tr>\n",
              "      <th>29</th>\n",
              "      <td>1993-147149-0029</td>\n",
              "      <td>it was a comfort to her when scolded by miss s...</td>\n",
              "      <td></td>\n",
              "      <td></td>\n",
              "    </tr>\n",
              "    <tr>\n",
              "      <th>123</th>\n",
              "      <td>777-126732-0010</td>\n",
              "      <td>and i could never get as many as three such me...</td>\n",
              "      <td></td>\n",
              "      <td></td>\n",
              "    </tr>\n",
              "    <tr>\n",
              "      <th>71</th>\n",
              "      <td>2086-149220-0008</td>\n",
              "      <td>it was evident that the race had degenerated l...</td>\n",
              "      <td></td>\n",
              "      <td></td>\n",
              "    </tr>\n",
              "    <tr>\n",
              "      <th>81</th>\n",
              "      <td>2086-149220-0018</td>\n",
              "      <td>i prefer to think and so would miss hepzibah t...</td>\n",
              "      <td></td>\n",
              "      <td></td>\n",
              "    </tr>\n",
              "    <tr>\n",
              "      <th>3</th>\n",
              "      <td>1993-147149-0003</td>\n",
              "      <td>the board not so formidable as she had imagine...</td>\n",
              "      <td></td>\n",
              "      <td></td>\n",
              "    </tr>\n",
              "    <tr>\n",
              "      <th>97</th>\n",
              "      <td>2086-149220-0034</td>\n",
              "      <td>if the original is still in the world i think ...</td>\n",
              "      <td></td>\n",
              "      <td></td>\n",
              "    </tr>\n",
              "    <tr>\n",
              "      <th>10</th>\n",
              "      <td>1993-147149-0010</td>\n",
              "      <td>wishing him said mary in a tone of inquiry</td>\n",
              "      <td></td>\n",
              "      <td></td>\n",
              "    </tr>\n",
              "    <tr>\n",
              "      <th>43</th>\n",
              "      <td>1993-147965-0001</td>\n",
              "      <td>morning prayers were longer than usual</td>\n",
              "      <td></td>\n",
              "      <td></td>\n",
              "    </tr>\n",
              "    <tr>\n",
              "      <th>62</th>\n",
              "      <td>2086-149214-0004</td>\n",
              "      <td>he trusts not to be considered as unpardonably...</td>\n",
              "      <td></td>\n",
              "      <td></td>\n",
              "    </tr>\n",
              "    <tr>\n",
              "      <th>112</th>\n",
              "      <td>2086-149220-0049</td>\n",
              "      <td>at some uncertain period in the depths of nigh...</td>\n",
              "      <td></td>\n",
              "      <td></td>\n",
              "    </tr>\n",
              "    <tr>\n",
              "      <th>182</th>\n",
              "      <td>777-126732-0069</td>\n",
              "      <td>if i had known they were coming to night i wou...</td>\n",
              "      <td></td>\n",
              "      <td></td>\n",
              "    </tr>\n",
              "    <tr>\n",
              "      <th>63</th>\n",
              "      <td>2086-149220-0000</td>\n",
              "      <td>the enclosure had formerly been very extensive...</td>\n",
              "      <td></td>\n",
              "      <td></td>\n",
              "    </tr>\n",
              "    <tr>\n",
              "      <th>70</th>\n",
              "      <td>2086-149220-0007</td>\n",
              "      <td>it now contained only chanticleer his two wive...</td>\n",
              "      <td></td>\n",
              "      <td></td>\n",
              "    </tr>\n",
              "    <tr>\n",
              "      <th>162</th>\n",
              "      <td>777-126732-0049</td>\n",
              "      <td>this survey was unfavourable</td>\n",
              "      <td></td>\n",
              "      <td></td>\n",
              "    </tr>\n",
              "    <tr>\n",
              "      <th>16</th>\n",
              "      <td>1993-147149-0016</td>\n",
              "      <td>but he stayed long there and at last his sturd...</td>\n",
              "      <td></td>\n",
              "      <td></td>\n",
              "    </tr>\n",
              "    <tr>\n",
              "      <th>22</th>\n",
              "      <td>1993-147149-0022</td>\n",
              "      <td>so leaving kind messages to george and jane wi...</td>\n",
              "      <td></td>\n",
              "      <td></td>\n",
              "    </tr>\n",
              "    <tr>\n",
              "      <th>190</th>\n",
              "      <td>777-126732-0077</td>\n",
              "      <td>he gets a red face poring over them</td>\n",
              "      <td></td>\n",
              "      <td></td>\n",
              "    </tr>\n",
              "    <tr>\n",
              "      <th>173</th>\n",
              "      <td>777-126732-0060</td>\n",
              "      <td>the comparison occurred to mister verloc becau...</td>\n",
              "      <td></td>\n",
              "      <td></td>\n",
              "    </tr>\n",
              "    <tr>\n",
              "      <th>19</th>\n",
              "      <td>1993-147149-0019</td>\n",
              "      <td>don't jem please don't whispered she again bel...</td>\n",
              "      <td></td>\n",
              "      <td></td>\n",
              "    </tr>\n",
              "    <tr>\n",
              "      <th>145</th>\n",
              "      <td>777-126732-0032</td>\n",
              "      <td>his scared eyes blazed with indignation it wou...</td>\n",
              "      <td></td>\n",
              "      <td></td>\n",
              "    </tr>\n",
              "  </tbody>\n",
              "</table>\n",
              "</div>\n",
              "      <button class=\"colab-df-convert\" onclick=\"convertToInteractive('df-8e88e234-5708-4909-98c2-0d33dbe30070')\"\n",
              "              title=\"Convert this dataframe to an interactive table.\"\n",
              "              style=\"display:none;\">\n",
              "        \n",
              "  <svg xmlns=\"http://www.w3.org/2000/svg\" height=\"24px\"viewBox=\"0 0 24 24\"\n",
              "       width=\"24px\">\n",
              "    <path d=\"M0 0h24v24H0V0z\" fill=\"none\"/>\n",
              "    <path d=\"M18.56 5.44l.94 2.06.94-2.06 2.06-.94-2.06-.94-.94-2.06-.94 2.06-2.06.94zm-11 1L8.5 8.5l.94-2.06 2.06-.94-2.06-.94L8.5 2.5l-.94 2.06-2.06.94zm10 10l.94 2.06.94-2.06 2.06-.94-2.06-.94-.94-2.06-.94 2.06-2.06.94z\"/><path d=\"M17.41 7.96l-1.37-1.37c-.4-.4-.92-.59-1.43-.59-.52 0-1.04.2-1.43.59L10.3 9.45l-7.72 7.72c-.78.78-.78 2.05 0 2.83L4 21.41c.39.39.9.59 1.41.59.51 0 1.02-.2 1.41-.59l7.78-7.78 2.81-2.81c.8-.78.8-2.07 0-2.86zM5.41 20L4 18.59l7.72-7.72 1.47 1.35L5.41 20z\"/>\n",
              "  </svg>\n",
              "      </button>\n",
              "      \n",
              "  <style>\n",
              "    .colab-df-container {\n",
              "      display:flex;\n",
              "      flex-wrap:wrap;\n",
              "      gap: 12px;\n",
              "    }\n",
              "\n",
              "    .colab-df-convert {\n",
              "      background-color: #E8F0FE;\n",
              "      border: none;\n",
              "      border-radius: 50%;\n",
              "      cursor: pointer;\n",
              "      display: none;\n",
              "      fill: #1967D2;\n",
              "      height: 32px;\n",
              "      padding: 0 0 0 0;\n",
              "      width: 32px;\n",
              "    }\n",
              "\n",
              "    .colab-df-convert:hover {\n",
              "      background-color: #E2EBFA;\n",
              "      box-shadow: 0px 1px 2px rgba(60, 64, 67, 0.3), 0px 1px 3px 1px rgba(60, 64, 67, 0.15);\n",
              "      fill: #174EA6;\n",
              "    }\n",
              "\n",
              "    [theme=dark] .colab-df-convert {\n",
              "      background-color: #3B4455;\n",
              "      fill: #D2E3FC;\n",
              "    }\n",
              "\n",
              "    [theme=dark] .colab-df-convert:hover {\n",
              "      background-color: #434B5C;\n",
              "      box-shadow: 0px 1px 3px 1px rgba(0, 0, 0, 0.15);\n",
              "      filter: drop-shadow(0px 1px 2px rgba(0, 0, 0, 0.3));\n",
              "      fill: #FFFFFF;\n",
              "    }\n",
              "  </style>\n",
              "\n",
              "      <script>\n",
              "        const buttonEl =\n",
              "          document.querySelector('#df-8e88e234-5708-4909-98c2-0d33dbe30070 button.colab-df-convert');\n",
              "        buttonEl.style.display =\n",
              "          google.colab.kernel.accessAllowed ? 'block' : 'none';\n",
              "\n",
              "        async function convertToInteractive(key) {\n",
              "          const element = document.querySelector('#df-8e88e234-5708-4909-98c2-0d33dbe30070');\n",
              "          const dataTable =\n",
              "            await google.colab.kernel.invokeFunction('convertToInteractive',\n",
              "                                                     [key], {});\n",
              "          if (!dataTable) return;\n",
              "\n",
              "          const docLinkHtml = 'Like what you see? Visit the ' +\n",
              "            '<a target=\"_blank\" href=https://colab.research.google.com/notebooks/data_table.ipynb>data table notebook</a>'\n",
              "            + ' to learn more about interactive tables.';\n",
              "          element.innerHTML = '';\n",
              "          dataTable['output_type'] = 'display_data';\n",
              "          await google.colab.output.renderOutput(dataTable, element);\n",
              "          const docLink = document.createElement('div');\n",
              "          docLink.innerHTML = docLinkHtml;\n",
              "          element.appendChild(docLink);\n",
              "        }\n",
              "      </script>\n",
              "    </div>\n",
              "  </div>\n",
              "  "
            ]
          },
          "metadata": {},
          "execution_count": 12
        }
      ]
    },
    {
      "cell_type": "markdown",
      "source": [
        "*Note: The cell below will run for a while (6 seconds per testing example). To reduce the runtime, limit the size of the training set (training_set variable). If you wish to use the outputs of the model without computing them, uncomment the cell after this one.*"
      ],
      "metadata": {
        "id": "3jSNmh6C4-P9"
      }
    },
    {
      "cell_type": "code",
      "source": [
        "training_set = None\n",
        "path = './processed_audio/'\n",
        "data = []\n",
        "counter = 0\n",
        "for file in tqdm.tqdm(os.listdir(path)):\n",
        "  file_name, file_extension = os.path.splitext(file)\n",
        "  if file_extension == '.flac':\n",
        "    os.system(f\"ffmpeg -y -i {path+file_name}.flac -acodec pcm_s16le -ac 1 -ar 16000  {path+file_name}.wav\")\n",
        "    fin = wave.open(f\"{path+file_name}.wav\", 'rb')\n",
        "    audio = np.frombuffer(fin.readframes(fin.getnframes()), np.int16)\n",
        "    fin.close()\n",
        "\n",
        "    deepspeech_output =  ds.stt(audio)\n",
        "    quartz_output = wav_to_text(create_manifest(f\"{path+file_name}.wav\"))[0]\n",
        "\n",
        "    # print(f\"\\nACCURATE TRANSCRIPTION: {transcript_df[transcript_df['file_name']==file_name]['transcript'].iloc[0]}\")\n",
        "    # print(f\"\\nDEEP SPEECH OUTPUT: {deepspeech_output}\")\n",
        "    # print(f\"\\nQUARTZ OUTPUT: {quartz_output}\")\n",
        "   \n",
        "    index = transcript_df[transcript_df['file_name']==file_name].index[0]\n",
        "    transcript_df.loc[index,'ds_output'] = deepspeech_output\n",
        "    transcript_df.loc[index,'quartz_output'] = quartz_output\n",
        "    counter+=1\n",
        "    if counter==training_set:\n",
        "      break"
      ],
      "metadata": {
        "colab": {
          "base_uri": "https://localhost:8080/",
          "height": 34
        },
        "id": "NxfwBjyQudRG",
        "outputId": "abdf325d-6018-49df-e158-c3be1fbcd02c"
      },
      "execution_count": null,
      "outputs": [
        {
          "output_type": "display_data",
          "data": {
            "text/plain": [
              "<IPython.core.display.HTML object>"
            ],
            "text/html": [
              "\n",
              "  <style>\n",
              "    pre {\n",
              "      white-space: pre-wrap;\n",
              "    }\n",
              "  </style>\n",
              "  "
            ]
          },
          "metadata": {}
        },
        {
          "output_type": "stream",
          "name": "stderr",
          "text": [
            "100%|██████████| 195/195 [20:27<00:00,  6.29s/it]\n"
          ]
        }
      ]
    },
    {
      "cell_type": "code",
      "source": [
        "# Uncomment this cell to use model outputs that have already been stored\n",
        "# transcript_df = pd.read_csv(\"./librispeech_subset/transcript_with_model_outputs.csv\")"
      ],
      "metadata": {
        "colab": {
          "base_uri": "https://localhost:8080/",
          "height": 17
        },
        "id": "d4Y-HbvOHvrd",
        "outputId": "97ec4315-7c0e-4f48-9fb1-9d1f4093d67d"
      },
      "execution_count": null,
      "outputs": [
        {
          "output_type": "display_data",
          "data": {
            "text/plain": [
              "<IPython.core.display.HTML object>"
            ],
            "text/html": [
              "\n",
              "  <style>\n",
              "    pre {\n",
              "      white-space: pre-wrap;\n",
              "    }\n",
              "  </style>\n",
              "  "
            ]
          },
          "metadata": {}
        }
      ]
    },
    {
      "cell_type": "code",
      "source": [
        "#Calculate word error rate\n",
        "relevant_transcript_df = transcript_df[transcript_df.quartz_output!='']\n",
        "quartz_error_rate = wer(list(relevant_transcript_df['transcript']),list(relevant_transcript_df['quartz_output']))*100\n",
        "ds_error_rate = wer(list(relevant_transcript_df['transcript']),list(relevant_transcript_df['ds_output']))*100\n",
        "\n",
        "print(f\"QUARTZ WER: {quartz_error_rate:.2f}%, DEEP SPEECH WER: {ds_error_rate:.2f}%\")"
      ],
      "metadata": {
        "colab": {
          "base_uri": "https://localhost:8080/",
          "height": 34
        },
        "id": "eOavmz97RkGL",
        "outputId": "f8d4f442-38dd-44b4-db88-0bf7bb33434b"
      },
      "execution_count": null,
      "outputs": [
        {
          "output_type": "display_data",
          "data": {
            "text/plain": [
              "<IPython.core.display.HTML object>"
            ],
            "text/html": [
              "\n",
              "  <style>\n",
              "    pre {\n",
              "      white-space: pre-wrap;\n",
              "    }\n",
              "  </style>\n",
              "  "
            ]
          },
          "metadata": {}
        },
        {
          "output_type": "stream",
          "name": "stdout",
          "text": [
            "QUARTZ WER: 4.86%, DEEP SPEECH WER: 9.31%\n"
          ]
        }
      ]
    },
    {
      "cell_type": "code",
      "source": [
        "# Display chosen youtube video \n",
        "YOUTUBE_ID = 'GKp_nAqlzaw'\n",
        "url = f\"https://www.youtube.com/watch?v={YOUTUBE_ID}\"\n",
        "YouTubeVideo(YOUTUBE_ID,start=9)"
      ],
      "metadata": {
        "colab": {
          "base_uri": "https://localhost:8080/",
          "height": 322
        },
        "id": "zTMtArFHJ-ID",
        "outputId": "b6639410-483a-4ecd-cdfd-4cfd0183edd9"
      },
      "execution_count": null,
      "outputs": [
        {
          "output_type": "display_data",
          "data": {
            "text/plain": [
              "<IPython.core.display.HTML object>"
            ],
            "text/html": [
              "\n",
              "  <style>\n",
              "    pre {\n",
              "      white-space: pre-wrap;\n",
              "    }\n",
              "  </style>\n",
              "  "
            ]
          },
          "metadata": {}
        },
        {
          "output_type": "execute_result",
          "data": {
            "text/plain": [
              "<IPython.lib.display.YouTubeVideo at 0x7fb5c5bff130>"
            ],
            "text/html": [
              "\n",
              "        <iframe\n",
              "            width=\"400\"\n",
              "            height=\"300\"\n",
              "            src=\"https://www.youtube.com/embed/GKp_nAqlzaw?start=9\"\n",
              "            frameborder=\"0\"\n",
              "            allowfullscreen\n",
              "        ></iframe>\n",
              "        "
            ],
            "image/jpeg": "[encoded data removed]"
          },
          "metadata": {},
          "execution_count": 16
        }
      ]
    },
    {
      "cell_type": "code",
      "source": [
        "!youtube-dl --extract-audio --audio-format wav --output \"downloaded.%(ext)s\" $url\n",
        "!ffmpeg  -y -i ./downloaded.wav -acodec pcm_s16le -ac 1 -ar 16000 -ss 9 -to 180 test.wav"
      ],
      "metadata": {
        "colab": {
          "base_uri": "https://localhost:8080/",
          "height": 746
        },
        "id": "FVWCzJlxMIOQ",
        "outputId": "71c39759-5c46-4f41-be92-8df0821ba76a"
      },
      "execution_count": null,
      "outputs": [
        {
          "output_type": "display_data",
          "data": {
            "text/plain": [
              "<IPython.core.display.HTML object>"
            ],
            "text/html": [
              "\n",
              "  <style>\n",
              "    pre {\n",
              "      white-space: pre-wrap;\n",
              "    }\n",
              "  </style>\n",
              "  "
            ]
          },
          "metadata": {}
        },
        {
          "output_type": "stream",
          "name": "stdout",
          "text": [
            "[youtube] GKp_nAqlzaw: Downloading webpage\n",
            "[youtube] GKp_nAqlzaw: Downloading MPD manifest\n",
            "[download] Destination: downloaded.m4a\n",
            "\u001b[K[download] 100% of 19.96MiB in 07:14\n",
            "[ffmpeg] Correcting container in \"downloaded.m4a\"\n",
            "[ffmpeg] Destination: downloaded.wav\n",
            "Deleting original file downloaded.m4a (pass -k to keep)\n",
            "ffmpeg version 3.4.11-0ubuntu0.1 Copyright (c) 2000-2022 the FFmpeg developers\n",
            "  built with gcc 7 (Ubuntu 7.5.0-3ubuntu1~18.04)\n",
            "  configuration: --prefix=/usr --extra-version=0ubuntu0.1 --toolchain=hardened --libdir=/usr/lib/x86_64-linux-gnu --incdir=/usr/include/x86_64-linux-gnu --enable-gpl --disable-stripping --enable-avresample --enable-avisynth --enable-gnutls --enable-ladspa --enable-libass --enable-libbluray --enable-libbs2b --enable-libcaca --enable-libcdio --enable-libflite --enable-libfontconfig --enable-libfreetype --enable-libfribidi --enable-libgme --enable-libgsm --enable-libmp3lame --enable-libmysofa --enable-libopenjpeg --enable-libopenmpt --enable-libopus --enable-libpulse --enable-librubberband --enable-librsvg --enable-libshine --enable-libsnappy --enable-libsoxr --enable-libspeex --enable-libssh --enable-libtheora --enable-libtwolame --enable-libvorbis --enable-libvpx --enable-libwavpack --enable-libwebp --enable-libx265 --enable-libxml2 --enable-libxvid --enable-libzmq --enable-libzvbi --enable-omx --enable-openal --enable-opengl --enable-sdl2 --enable-libdc1394 --enable-libdrm --enable-libiec61883 --enable-chromaprint --enable-frei0r --enable-libopencv --enable-libx264 --enable-shared\n",
            "  libavutil      55. 78.100 / 55. 78.100\n",
            "  libavcodec     57.107.100 / 57.107.100\n",
            "  libavformat    57. 83.100 / 57. 83.100\n",
            "  libavdevice    57. 10.100 / 57. 10.100\n",
            "  libavfilter     6.107.100 /  6.107.100\n",
            "  libavresample   3.  7.  0 /  3.  7.  0\n",
            "  libswscale      4.  8.100 /  4.  8.100\n",
            "  libswresample   2.  9.100 /  2.  9.100\n",
            "  libpostproc    54.  7.100 / 54.  7.100\n",
            "\u001b[0;33mGuessed Channel Layout for Input Stream #0.0 : stereo\n",
            "\u001b[0mInput #0, wav, from './downloaded.wav':\n",
            "  Metadata:\n",
            "    encoder         : Lavf57.83.100\n",
            "  Duration: 00:21:58.08, bitrate: 1411 kb/s\n",
            "    Stream #0:0: Audio: pcm_s16le ([1][0][0][0] / 0x0001), 44100 Hz, stereo, s16, 1411 kb/s\n",
            "Stream mapping:\n",
            "  Stream #0:0 -> #0:0 (pcm_s16le (native) -> pcm_s16le (native))\n",
            "Press [q] to stop, [?] for help\n",
            "Output #0, wav, to 'test.wav':\n",
            "  Metadata:\n",
            "    ISFT            : Lavf57.83.100\n",
            "    Stream #0:0: Audio: pcm_s16le ([1][0][0][0] / 0x0001), 16000 Hz, mono, s16, 256 kb/s\n",
            "    Metadata:\n",
            "      encoder         : Lavc57.107.100 pcm_s16le\n",
            "size=    5344kB time=00:02:51.00 bitrate= 256.0kbits/s speed= 997x    \n",
            "video:0kB audio:5344kB subtitle:0kB other streams:0kB global headers:0kB muxing overhead: 0.001425%\n"
          ]
        }
      ]
    },
    {
      "cell_type": "code",
      "source": [
        "# Load Deep Speech model and run on audio\n",
        "fin = wave.open('test.wav', 'rb')\n",
        "audio = np.frombuffer(fin.readframes(fin.getnframes()), np.int16)\n",
        "fin.close()\n",
        "ds = deepspeech.Model('deepspeech-0.9.3-models.pbmm')\n",
        "ds.enableExternalScorer('deepspeech-0.9.3-models.scorer')\n",
        "\n",
        "deepspeech_output = ds.stt(audio)\n",
        "quartz_output = wav_to_text(create_manifest('test.wav'))[0]"
      ],
      "metadata": {
        "colab": {
          "base_uri": "https://localhost:8080/",
          "height": 17
        },
        "id": "FaPD02lySrgi",
        "outputId": "08792247-3879-4c01-c151-9d5fdf492841"
      },
      "execution_count": null,
      "outputs": [
        {
          "output_type": "display_data",
          "data": {
            "text/plain": [
              "<IPython.core.display.HTML object>"
            ],
            "text/html": [
              "\n",
              "  <style>\n",
              "    pre {\n",
              "      white-space: pre-wrap;\n",
              "    }\n",
              "  </style>\n",
              "  "
            ]
          },
          "metadata": {}
        }
      ]
    },
    {
      "cell_type": "code",
      "source": [
        "approximate_transcript = '''\n",
        "i gotta do my oh it's scott manley here hello and \n",
        "we are near with philippe mike and chad and we are in san francisco for \n",
        "game developer conference two thousand and three and how are you guys liking it \n",
        "what does it say in your badge so i can clone it technical artist is what all access \n",
        "news like that out even have a squad back oh my gosh i want one fancy isn't it are you\n",
        "presenting it the show or are you just attending we're obviously getting breakfast at this \n",
        "time that mel's drive it if somewhat notorious san francisco establishment why are the young \n",
        "tourists probably is a trashy tourists frat which means things happen here i wasn't sure i invite i just the last time actually every \n",
        "time i've been here i've been very drunk you're like hey where's a good place to go it's god's like let's go hi you asked for a place \n",
        "that was within walking distance of gdc and it came up there's many other options that are  possibly cheaper oh well but now they get to \n",
        "experience classic americana yes classic americana look at that this is this is how you thought the whole of america was like right mike \n",
        "this is how yes the jukebox at the table considering that we're outside the bad part of town he's been getting the color for local flavor yeah \n",
        "i like to fight that this is sitting open journey and don't stop believin which is a san francisco anthem of sorts is it it's like the only thing\n",
        " that people play in jukeboxes unlike my leg all the names like who's crying now my love and the beach boys as well with classic california how are you \n",
        " finding a san francisco than other than that very nice far from where you're at classic newbie mistake right stay away from sixth street hotels are cheap \n",
        " but there's a reason for that it rent or some many of those rooms by the hour yeah lessons learned all around yeah i mean i think for you guys kerbal space \n",
        " program yeah kerbal space program has been a lesson you know learning experience right i've watched you struggle with the strut the kraken very specifically \n",
        " right well it's something i did encounter it in the past and so it's kind of like i i remember making those mistakes yeah oh come across pretty much everyone \n",
        " for all the lincoln costume yet\n",
        "\n",
        "'''\n",
        "\n",
        "\n",
        "print(f\"\\nDEEP SPEECH OUTPUT: {deepspeech_output}\")\n",
        "print(f\"\\nQUARTZ OUTPUT: {quartz_output}\")\n",
        "print(f\"\\nAPPROXIMATE TRANSCRIPT: {approximate_transcript}\")"
      ],
      "metadata": {
        "colab": {
          "base_uri": "https://localhost:8080/",
          "height": 555
        },
        "id": "6qRuNjIGVQd-",
        "outputId": "9a742336-9e5b-4e0f-c360-177b34494ae5"
      },
      "execution_count": null,
      "outputs": [
        {
          "output_type": "display_data",
          "data": {
            "text/plain": [
              "<IPython.core.display.HTML object>"
            ],
            "text/html": [
              "\n",
              "  <style>\n",
              "    pre {\n",
              "      white-space: pre-wrap;\n",
              "    }\n",
              "  </style>\n",
              "  "
            ]
          },
          "metadata": {}
        },
        {
          "output_type": "stream",
          "name": "stdout",
          "text": [
            "\n",
            "DEEP SPEECH OUTPUT: i got to do my pioneer with politicians shadower in san francisco for game developer conference two thousand three argues liking it roquat's it saying your badenwaeldschen timorousness meeneestyerstvoh tepanteohuatzin a roulette\n",
            "\n",
            "QUARTZ OUTPUT: she gotta bo mi oh scotmamly herewen we are in san francisco for game developer conference two thousand an threemhantoris san francisco tablementintorio itme upthere's many other options that are possibly cheaperxrience amia yes classic americana this  this is how you itought the whole of america asyes the jukwos at the table considering that we're outside the bae's en gting fo ethe fight that this is sitting ofen at journey don't stop believin whic ofsa is sentrantiscal anthem of sorts beacheaswellcaliforniarheou tet classic mewby mistake right stay away from sixt street e tetails are chep but there's a reason for that ye  cirtal space program has been now alessen learning experience ight\n",
            "\n",
            "APPROXIMATE TRANSCRIPT: \n",
            "i gotta do my oh it's scott manley here hello and \n",
            "we are near with philippe mike and chad and we are in san francisco for \n",
            "game developer conference two thousand and three and how are you guys liking it \n",
            "what does it say in your badge so i can clone it technical artist is what all access \n",
            "news like that out even have a squad back oh my gosh i want one fancy isn't it are you\n",
            "presenting it the show or are you just attending we're obviously getting breakfast at this \n",
            "time that mel's drive it if somewhat notorious san francisco establishment why are the young \n",
            "tourists probably is a trashy tourists frat which means things happen here i wasn't sure i invite i just the last time actually every \n",
            "time i've been here i've been very drunk you're like hey where's a good place to go it's god's like let's go hi you asked for a place \n",
            "that was within walking distance of gdc and it came up there's many other options that are  possibly cheaper oh well but now they get to \n",
            "experience classic americana yes classic americana look at that this is this is how you thought the whole of america was like right mike \n",
            "this is how yes the jukebox at the table considering that we're outside the bad part of town he's been getting the color for local flavor yeah \n",
            "i like to fight that this is sitting open journey and don't stop believin which is a san francisco anthem of sorts is it it's like the only thing\n",
            " that people play in jukeboxes unlike my leg all the names like who's crying now my love and the beach boys as well with classic california how are you \n",
            " finding a san francisco than other than that very nice far from where you're at classic newbie mistake right stay away from sixth street hotels are cheap \n",
            " but there's a reason for that it rent or some many of those rooms by the hour yeah lessons learned all around yeah i mean i think for you guys kerbal space \n",
            " program yeah kerbal space program has been a lesson you know learning experience right i've watched you struggle with the strut the kraken very specifically \n",
            " right well it's something i did encounter it in the past and so it's kind of like i i remember making those mistakes yeah oh come across pretty much everyone \n",
            " for all the lincoln costume yet\n",
            "\n",
            "\n"
          ]
        }
      ]
    },
    {
      "cell_type": "markdown",
      "source": [
        "##References"
      ],
      "metadata": {
        "id": "oIZM2e1Swt9Q"
      }
    },
    {
      "cell_type": "markdown",
      "source": [
        "<a name=\"id\"></a>\n",
        "---\n",
        "1. Helena Chen. Does Word Error Rate Matter (2021). [\\[Link\\]](https://smartaction.ai/blog/does-word-error-rate-matter)\n",
        "2. Richard P. Lippman. Speech Recognition by Machines and Humans (1997). [\\[PDF\\]](https://www.ee.columbia.edu/~dpwe/papers/Lipp97-hummach.pdf)\n",
        "3. IBM Cloud Education. What are Recurrent Neural Networks (2020). [\\[Link\\]](https://www.ibm.com/cloud/learn/recurrent-neural-networks)\n",
        "4. [Wikipedia: Baidu](https://en.wikipedia.org/wiki/Baidu)\n",
        "5. Jason Brownlee. A Gentle Introduction to Dropout for Regularizing Deep Neural Networks (2018). [\\[Link\\]](https://machinelearningmastery.com/dropout-for-regularizing-deep-neural-networks/)\n",
        "6. [Hub5'00 English Evaluation Transcripts](https://paperswithcode.com/dataset/2000-hub5-english)\n",
        "7. [Wikipedia: Lombard Effect](https://en.wikipedia.org/wiki/Lombard_effect)\n",
        "8. [Wikipedia: CTC Loss](https://en.wikipedia.org/wiki/Connectionist_temporal_classification)\n",
        "9. Leland Roberts. Understanding the Mel Spectrogram (2020). [\\[PDF\\]](https://medium.com/analytics-vidhya/understanding-the-mel-spectrogram-fca2afa2ce53)\n",
        "10. [Wikipedia: Waveform Format](https://en.wikipedia.org/wiki/WAV)\n",
        "11. Kesley Foster. What is ASR (2021). [\\[Link\\]](https://www.assemblyai.com/blog/what-is-asr/)\n",
        "12. [Wikipedia: Deep Learning](https://en.wikipedia.org/wiki/Deep_learning)\n",
        "13. Awni Hannun, Carl Case, Jared Casper, Bryan Catanzaro, Greg Diamos, Erich Elsen, Ryan Prenger, Sanjeev Satheesh, Shubho Sengupta, Adam Coates, Andrew Y. Ng.  Deep Speech: Scaling up end-to-end speech recognition. arXiv:1412.5567 (2014). [\\[PDF\\]](https://arxiv.org/pdf/1412.5567v2.pdf)\n",
        "14. [LibriSpeech ASR Corpus](https://www.openslr.org/12)\n",
        "15. [Mozilla Deep Speech Colab Notebook](https://colab.research.google.com/github/tugstugi/dl-colab-notebooks/blob/master/notebooks/MozillaDeepSpeech.ipynb)\n",
        "16. [Nvidia Quartz Net Colab Notebook](https://colab.research.google.com/github/tugstugi/dl-colab-notebooks/blob/master/notebooks/NVidiaQuartzNet.ipynb)\n",
        "---"
      ],
      "metadata": {
        "id": "LbdfEtK45eXA"
      }
    }
  ]
}